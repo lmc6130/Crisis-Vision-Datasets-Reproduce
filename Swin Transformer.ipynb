{
 "cells": [
  {
   "attachments": {},
   "cell_type": "markdown",
   "id": "95768630",
   "metadata": {},
   "source": [
    "# Setup"
   ]
  },
  {
   "cell_type": "code",
   "execution_count": 1,
   "id": "b3995785",
   "metadata": {},
   "outputs": [],
   "source": [
    "# Define Parameters\n",
    "batch_size = 32\n",
    "epochs = 5\n",
    "# task = 'Damage_Severity_Classification'\n",
    "# task = 'Disaster_Types_Classification'\n",
    "task = 'Humanitarian_Classification'\n",
    "# task = 'Informativeness_Classification'"
   ]
  },
  {
   "cell_type": "code",
   "execution_count": 2,
   "id": "0ec6275d",
   "metadata": {},
   "outputs": [],
   "source": [
    "import matplotlib.pyplot as plt\n",
    "import numpy as np\n",
    "import pandas as pd\n",
    "import os\n",
    "import time\n",
    "import torch\n",
    "import torch.nn as nn\n",
    "import torch.optim\n",
    "import torchvision.models as models\n",
    "import torchvision.transforms as transforms\n",
    "import warnings\n",
    "from PIL import Image\n",
    "from sklearn.metrics import accuracy_score, f1_score, classification_report, confusion_matrix, ConfusionMatrixDisplay\n",
    "from torch.utils.data import DataLoader, TensorDataset\n",
    "from torchvision.transforms.functional import InterpolationMode\n",
    "from torch.nn.parallel import DataParallel\n",
    "from tqdm import tqdm\n",
    "\n",
    "warnings.filterwarnings(\"ignore\")\n",
    "device = torch.device(\"cuda\")\n",
    "if torch.cuda.device_count() > 1:\n",
    "    print(\"Using\", torch.cuda.device_count(), \"GPUs!\")\n",
    "    parallel = True\n",
    "else:\n",
    "    parallel = False"
   ]
  },
  {
   "attachments": {},
   "cell_type": "markdown",
   "id": "64fb5e7a",
   "metadata": {},
   "source": [
    "# Data Loading"
   ]
  },
  {
   "cell_type": "code",
   "execution_count": 3,
   "id": "98a392db",
   "metadata": {},
   "outputs": [
    {
     "name": "stdout",
     "output_type": "stream",
     "text": [
      "(12618, 4)\n",
      "(2922, 4)\n",
      "(1229, 4)\n"
     ]
    }
   ],
   "source": [
    "# Damage Severity\n",
    "# train_path = '/work/u9562361/crisis_vision_benchmarks/tasks/damage_severity/consolidated/consolidated_damage_train_final.tsv'\n",
    "# test_path = '/work/u9562361/crisis_vision_benchmarks/tasks/damage_severity/consolidated/consolidated_damage_test_final.tsv'\n",
    "# dev_path = '/work/u9562361/crisis_vision_benchmarks/tasks/damage_severity/consolidated/consolidated_damage_dev_final.tsv'\n",
    "\n",
    "# Disaster Types\n",
    "# train_path = '/work/u9562361/crisis_vision_benchmarks/tasks/disaster_types/consolidated/consolidated_disaster_types_train_final.tsv'\n",
    "# test_path = '/work/u9562361/crisis_vision_benchmarks/tasks/disaster_types/consolidated/consolidated_disaster_types_test_final.tsv'\n",
    "# dev_path = '/work/u9562361/crisis_vision_benchmarks/tasks/disaster_types/consolidated/consolidated_disaster_types_dev_final.tsv'\n",
    "\n",
    "# Humanitarian\n",
    "train_path = 'C:/crisis_vision_benchmarks/tasks/humanitarian/consolidated/consolidated_hum_train_final.tsv'\n",
    "test_path = 'C:/crisis_vision_benchmarks/tasks/humanitarian/consolidated/consolidated_hum_test_final.tsv'\n",
    "dev_path = 'C:/crisis_vision_benchmarks/tasks/humanitarian/consolidated/consolidated_hum_dev_final.tsv'\n",
    "\n",
    "# Informativeness\n",
    "# train_path = '/work/u9562361/crisis_vision_benchmarks/tasks/informative/consolidated/consolidated_info_train_final.tsv'\n",
    "# test_path = '/work/u9562361/crisis_vision_benchmarks/tasks/informative/consolidated/consolidated_info_test_final.tsv'\n",
    "# dev_path = '/work/u9562361/crisis_vision_benchmarks/tasks/informative/consolidated/consolidated_info_dev_final.tsv'\n",
    "\n",
    "train_label = pd.read_table(train_path)\n",
    "test_label = pd.read_table(test_path)\n",
    "dev_label = pd.read_table(dev_path)\n",
    "\n",
    "print(train_label.shape)\n",
    "print(test_label.shape)\n",
    "print(dev_label.shape)"
   ]
  },
  {
   "cell_type": "code",
   "execution_count": 5,
   "id": "c5df72bd",
   "metadata": {},
   "outputs": [
    {
     "name": "stderr",
     "output_type": "stream",
     "text": [
      "100%|██████████| 12618/12618 [02:15<00:00, 93.07it/s] \n"
     ]
    },
    {
     "name": "stdout",
     "output_type": "stream",
     "text": [
      "torch.Size([3, 256, 256])\n",
      "(12618, 3, 256, 256)\n"
     ]
    },
    {
     "name": "stderr",
     "output_type": "stream",
     "text": [
      "100%|██████████| 12618/12618 [00:00<00:00, 435099.21it/s]\n"
     ]
    },
    {
     "name": "stdout",
     "output_type": "stream",
     "text": [
      "(12618,)\n"
     ]
    },
    {
     "name": "stderr",
     "output_type": "stream",
     "text": [
      "100%|██████████| 2922/2922 [00:32<00:00, 90.08it/s] \n"
     ]
    },
    {
     "name": "stdout",
     "output_type": "stream",
     "text": [
      "torch.Size([3, 256, 256])\n",
      "(2922, 3, 256, 256)\n"
     ]
    },
    {
     "name": "stderr",
     "output_type": "stream",
     "text": [
      "100%|██████████| 2922/2922 [00:00<00:00, 730552.95it/s]\n"
     ]
    },
    {
     "name": "stdout",
     "output_type": "stream",
     "text": [
      "(2922,)\n"
     ]
    },
    {
     "name": "stderr",
     "output_type": "stream",
     "text": [
      " 71%|███████   | 868/1229 [00:08<00:07, 50.27it/s] "
     ]
    },
    {
     "name": "stdout",
     "output_type": "stream",
     "text": [
      "Error opening image: C:/crisis_vision_benchmarks/data/multimodal-deep-learning-disaster-response-mouzannar/multimodal/damaged_infrastructure/images/wreckedcar_2017-02-23_21-15-25.jpg - image file is truncated (0 bytes not processed)\n"
     ]
    },
    {
     "name": "stderr",
     "output_type": "stream",
     "text": [
      "100%|██████████| 1229/1229 [00:16<00:00, 73.37it/s]\n"
     ]
    },
    {
     "name": "stdout",
     "output_type": "stream",
     "text": [
      "torch.Size([3, 256, 256])\n",
      "(1228, 3, 256, 256)\n"
     ]
    },
    {
     "name": "stderr",
     "output_type": "stream",
     "text": [
      "100%|██████████| 1228/1228 [00:00<00:00, 1226626.65it/s]"
     ]
    },
    {
     "name": "stdout",
     "output_type": "stream",
     "text": [
      "(1228,)\n"
     ]
    },
    {
     "name": "stderr",
     "output_type": "stream",
     "text": [
      "\n"
     ]
    }
   ],
   "source": [
    "# class_label_map = {\"severe\": 2, \"mild\": 1, \"little_or_none\": 0}\n",
    "# class_label_map = {\"landslide\":6, \"other_disaster\":5, \"fire\":4, \"hurricane\":3, \"earthquake\":2, \"flood\":1, \"not_disaster\":0}\n",
    "class_label_map = {\"affected_injured_or_dead_people\": 3, \"rescue_volunteering_or_donation_effort\": 2, \"infrastructure_and_utility_damage\": 1, \"not_humanitarian\": 0}\n",
    "# class_label_map = {\"informative\": 1, \"not_informative\": 0}\n",
    "\n",
    "def get_data(pd_label, class_label_map):\n",
    "    image_path = pd_label['image_path']\n",
    "    class_label = pd_label['class_label']\n",
    "\n",
    "    X, y, valid_indices = [], [], []\n",
    "\n",
    "    tfms = transforms.Compose([\n",
    "        transforms.Resize((272, 272), interpolation=InterpolationMode.BICUBIC),\n",
    "        transforms.CenterCrop((256, 256)),\n",
    "        transforms.ToTensor(),\n",
    "        transforms.Normalize(mean=[0.485, 0.456, 0.406], std=[0.229, 0.224, 0.225])\n",
    "    ])\n",
    "\n",
    "    for i in tqdm(range(len(image_path))):\n",
    "        path = os.path.join('C:/crisis_vision_benchmarks/', image_path[i])\n",
    "        try:\n",
    "            img = Image.open(path)\n",
    "            if img is None:\n",
    "                print(f\"Error reading image: {path}\")\n",
    "                continue\n",
    "            img = img.convert(\"RGB\")\n",
    "            img = tfms(img) \n",
    "            X.append(img)\n",
    "            valid_indices.append(i)\n",
    "        except Exception as e:\n",
    "            print(f\"Error opening image: {path} - {str(e)}\")\n",
    "            continue\n",
    "\n",
    "    print(X[0].shape)\n",
    "    X = np.stack(X)\n",
    "    print(X.shape)\n",
    "\n",
    "    for idx in tqdm(valid_indices):\n",
    "        label = class_label[idx]\n",
    "        if label not in class_label_map:\n",
    "            print(f\"Error: Unknown class label: {label}\")\n",
    "            continue\n",
    "        y.append(class_label_map[label])\n",
    "\n",
    "    y = np.array(y, dtype=np.int64)\n",
    "    print(y.shape)\n",
    "\n",
    "    return X, y\n",
    "\n",
    "X_train, y_train = get_data(train_label, class_label_map)\n",
    "X_test, y_test = get_data(test_label, class_label_map)\n",
    "X_dev, y_dev = get_data(dev_label, class_label_map)"
   ]
  },
  {
   "cell_type": "code",
   "execution_count": 12,
   "id": "86ac9f3b",
   "metadata": {},
   "outputs": [
    {
     "name": "stdout",
     "output_type": "stream",
     "text": [
      "Number of unique classes: 4\n",
      "Unique classes: [0 1 2 3]\n"
     ]
    }
   ],
   "source": [
    "unique_classes = np.unique(y_dev)\n",
    "num_classes = len(unique_classes)\n",
    "\n",
    "print(\"Number of unique classes:\", num_classes)\n",
    "print(\"Unique classes:\", unique_classes)"
   ]
  },
  {
   "cell_type": "code",
   "execution_count": 13,
   "id": "974739e2",
   "metadata": {},
   "outputs": [],
   "source": [
    "X_train = torch.tensor(X_train, dtype=torch.float32)\n",
    "y_train = torch.tensor(y_train, dtype=torch.int64)\n",
    "trainset = TensorDataset(X_train, y_train)\n",
    "\n",
    "X_test = torch.tensor(X_test, dtype=torch.float32)\n",
    "y_test = torch.tensor(y_test, dtype=torch.int64)\n",
    "testset = TensorDataset(X_test, y_test)\n",
    "\n",
    "X_dev = torch.tensor(X_dev, dtype=torch.float32)\n",
    "y_dev = torch.tensor(y_dev, dtype=torch.int64)\n",
    "devset = TensorDataset(X_dev, y_dev)\n",
    "\n",
    "trainloader = DataLoader(trainset, batch_size=batch_size, shuffle=True, num_workers=4)\n",
    "testloader = DataLoader(testset, batch_size=batch_size, shuffle=False, num_workers=4)\n",
    "devloader = DataLoader(devset, batch_size=batch_size, shuffle=True, num_workers=4)"
   ]
  },
  {
   "attachments": {},
   "cell_type": "markdown",
   "id": "7ad4d268",
   "metadata": {},
   "source": [
    "# Model"
   ]
  },
  {
   "cell_type": "code",
   "execution_count": 14,
   "id": "fb06179d",
   "metadata": {},
   "outputs": [],
   "source": [
    "model = models.swin_v2_b(weights = models.Swin_V2_B_Weights.DEFAULT)\n",
    "num_ftrs = model.head.in_features\n",
    "model.head = nn.Linear(num_ftrs, len(class_label_map))\n",
    "model = DataParallel(model)\n",
    "model = model.to(device)\n",
    "\n",
    "optimizer = torch.optim.Adam(model.parameters(), lr=0.001, weight_decay=0.05)\n",
    "\n",
    "warmup_epochs = 20\n",
    "warmup_factor = 1.0 / warmup_epochs\n",
    "warmup_scheduler = torch.optim.lr_scheduler.LambdaLR(optimizer, lr_lambda=lambda epoch: epoch / warmup_epochs)\n",
    "\n",
    "lr_scheduler = torch.optim.lr_scheduler.CosineAnnealingLR(optimizer, T_max=epochs - warmup_epochs, eta_min=0.00001)\n",
    "criterion = nn.CrossEntropyLoss(label_smoothing=0.1)\n",
    "\n",
    "train_logs = {\"loss\": [], \"accuracy\": [], \"f1-score\": [], \"time\": []}\n",
    "val_logs = {\"loss\": [], \"accuracy\": [], \"f1-score\": [], \"time\": []}"
   ]
  },
  {
   "attachments": {},
   "cell_type": "markdown",
   "id": "331232d0",
   "metadata": {},
   "source": [
    "# Train"
   ]
  },
  {
   "cell_type": "code",
   "execution_count": 7,
   "id": "ed8bde0b",
   "metadata": {},
   "outputs": [],
   "source": [
    "# Learning schedule update\n",
    "def dev_one_epoch(dev_data_loader):\n",
    "    epoch_loss = []\n",
    "    epoch_acc = []\n",
    "\n",
    "    model.eval()\n",
    "\n",
    "    with torch.no_grad():\n",
    "        for images, labels in dev_data_loader:\n",
    "            images = images.to(device)\n",
    "            labels = labels.to(device)\n",
    "\n",
    "            preds = model(images)  # Forward\n",
    "\n",
    "            # Calculating Loss\n",
    "            loss = criterion(preds, labels)\n",
    "            epoch_loss.append(loss.item())\n",
    "\n",
    "            # Calculating Accuracy\n",
    "            _, predicts = preds.max(1)\n",
    "            predicts = predicts.detach().cpu().numpy()\n",
    "            labels = labels.detach().cpu().numpy()\n",
    "            acc = accuracy_score(labels, predicts)\n",
    "            epoch_acc.append(acc)\n",
    "\n",
    "    # Acc and Loss\n",
    "    epoch_loss = np.mean(epoch_loss)\n",
    "    epoch_acc = np.mean(epoch_acc)\n",
    "\n",
    "    return epoch_loss, epoch_acc"
   ]
  },
  {
   "cell_type": "code",
   "execution_count": 8,
   "id": "fd47354e",
   "metadata": {},
   "outputs": [],
   "source": [
    "def train_one_epoch(train_data_loader):\n",
    "    epoch_loss = []\n",
    "    epoch_acc = []\n",
    "    epoch_f1 = []\n",
    "    trues = []\n",
    "    prediction = []\n",
    "    start_time = time.time()\n",
    "\n",
    "    model.train()\n",
    "\n",
    "    for images, labels in train_data_loader:\n",
    "        images = images.to(device)\n",
    "        labels = labels.to(device)\n",
    "        optimizer.zero_grad()\n",
    "        preds = model(images)\n",
    "\n",
    "        # Calculating Loss\n",
    "        loss = criterion(preds, labels)\n",
    "        epoch_loss.append(loss.item())\n",
    "\n",
    "        # Calculating Metrics\n",
    "        _, predicts = preds.max(1)\n",
    "        predicts = predicts.detach().cpu().numpy()\n",
    "        labels = labels.detach().cpu().numpy()\n",
    "        acc = accuracy_score(labels, predicts)\n",
    "        f1 = f1_score(labels, predicts, average=\"weighted\")\n",
    "        epoch_acc.append(acc)\n",
    "        epoch_f1.append(f1)\n",
    "        trues.append(labels)\n",
    "        prediction.append(predicts)\n",
    "\n",
    "        # Backpropagation\n",
    "        loss.backward()\n",
    "        optimizer.step()\n",
    "\n",
    "    trues = np.concatenate(trues)\n",
    "    prediction = np.concatenate(prediction)\n",
    "    accuracy = accuracy_score(trues, prediction)\n",
    "    f1score = f1_score(trues, prediction, average=\"weighted\")\n",
    "    accuracy = accuracy * 100\n",
    "    f1score = f1score * 100\n",
    "\n",
    "    # Overall Epoch Results\n",
    "    end_time = time.time()\n",
    "    total_time = end_time - start_time\n",
    "\n",
    "    epoch_loss = np.mean(epoch_loss)\n",
    "    epoch_acc = np.mean(epoch_acc) * 100\n",
    "    epoch_f1 = np.mean(epoch_f1) * 100\n",
    "\n",
    "    train_logs[\"loss\"].append(epoch_loss)\n",
    "    train_logs[\"accuracy\"].append(accuracy)\n",
    "    train_logs[\"f1-score\"].append(f1score)\n",
    "    train_logs[\"time\"].append(total_time)\n",
    "\n",
    "    return epoch_loss, accuracy, f1score, total_time\n",
    "\n",
    "def val_one_epoch(val_data_loader, best_val_acc):\n",
    "    epoch_loss = []\n",
    "    epoch_acc = []\n",
    "    epoch_f1 = []\n",
    "    trues = []\n",
    "    prediction = []\n",
    "    start_time = time.time()\n",
    "\n",
    "    model.eval()\n",
    "\n",
    "    with torch.no_grad():\n",
    "        for images, labels in val_data_loader:\n",
    "            images = images.to(device)\n",
    "            labels = labels.to(device)\n",
    "\n",
    "            preds = model(images)\n",
    "\n",
    "            # Calculating Loss\n",
    "            loss = criterion(preds, labels)\n",
    "            epoch_loss.append(loss.item())\n",
    "\n",
    "            # Calculating Metrics\n",
    "            _, predicts = preds.max(1)\n",
    "            predicts = predicts.detach().cpu().numpy()\n",
    "            labels = labels.detach().cpu().numpy()\n",
    "            acc = accuracy_score(labels, predicts)\n",
    "            f1 = f1_score(labels, predicts, average=\"weighted\")\n",
    "            epoch_acc.append(acc)\n",
    "            epoch_f1.append(f1)\n",
    "            trues.append(labels)\n",
    "            prediction.append(predicts)\n",
    "    \n",
    "    trues = np.concatenate(trues)\n",
    "    prediction = np.concatenate(prediction)\n",
    "    accuracy = accuracy_score(trues, prediction)\n",
    "    f1score = f1_score(trues, prediction, average=\"weighted\")\n",
    "    accuracy = accuracy * 100\n",
    "    f1score = f1score * 100\n",
    "    cm = confusion_matrix(trues, prediction)\n",
    "    cr = classification_report(trues, prediction)\n",
    "\n",
    "    # Overall Epoch Results\n",
    "    end_time = time.time()\n",
    "    total_time = end_time - start_time\n",
    "\n",
    "    epoch_loss = np.mean(epoch_loss)\n",
    "    epoch_acc = np.mean(epoch_acc) * 100\n",
    "    epoch_f1 = np.mean(epoch_f1) * 100\n",
    "\n",
    "    val_logs[\"loss\"].append(epoch_loss)\n",
    "    val_logs[\"accuracy\"].append(accuracy)\n",
    "    val_logs[\"f1-score\"].append(f1score)\n",
    "    val_logs[\"time\"].append(total_time)\n",
    "\n",
    "    # Saving best model\n",
    "    if epoch_acc > best_val_acc:\n",
    "        best_val_acc = epoch_acc\n",
    "        torch.save(model.state_dict(), task + \"_swintransformer.pth\")\n",
    "\n",
    "    return epoch_loss, accuracy, f1score, total_time, best_val_acc, cm, cr"
   ]
  },
  {
   "cell_type": "code",
   "execution_count": 9,
   "id": "8ea7a580",
   "metadata": {
    "scrolled": false
   },
   "outputs": [
    {
     "name": "stdout",
     "output_type": "stream",
     "text": [
      "Epoch 1/100 - loss: 1.4084 - accuracy: 24.98% - val_loss: 1.4073 - val_accuracy: 25.22% - time: 119.47s\n",
      "Epoch 2/100 - loss: 1.1227 - accuracy: 56.37% - val_loss: 1.1210 - val_accuracy: 58.86% - time: 117.24s\n",
      "Epoch 3/100 - loss: 1.1515 - accuracy: 54.34% - val_loss: 1.1222 - val_accuracy: 56.64% - time: 117.31s\n",
      "Epoch 4/100 - loss: 1.1473 - accuracy: 55.22% - val_loss: 1.1327 - val_accuracy: 54.86% - time: 117.10s\n",
      "Epoch 5/100 - loss: 1.1645 - accuracy: 52.73% - val_loss: 1.1069 - val_accuracy: 58.08% - time: 117.00s\n",
      "Epoch 6/100 - loss: 1.1490 - accuracy: 54.49% - val_loss: 1.1110 - val_accuracy: 57.32% - time: 117.08s\n",
      "Epoch 7/100 - loss: 1.1378 - accuracy: 56.17% - val_loss: 1.1292 - val_accuracy: 59.10% - time: 116.98s\n",
      "Epoch 8/100 - loss: 1.1335 - accuracy: 56.19% - val_loss: 1.1306 - val_accuracy: 56.57% - time: 116.97s\n",
      "Epoch 9/100 - loss: 1.1420 - accuracy: 55.48% - val_loss: 1.0906 - val_accuracy: 58.97% - time: 117.09s\n",
      "Epoch 10/100 - loss: 1.1317 - accuracy: 56.58% - val_loss: 1.0968 - val_accuracy: 57.63% - time: 116.81s\n",
      "Epoch 11/100 - loss: 1.1337 - accuracy: 56.32% - val_loss: 1.1098 - val_accuracy: 58.32% - time: 117.10s\n",
      "Epoch 12/100 - loss: 1.1345 - accuracy: 55.90% - val_loss: 1.1147 - val_accuracy: 56.98% - time: 116.80s\n",
      "Epoch 13/100 - loss: 1.1375 - accuracy: 56.10% - val_loss: 1.1198 - val_accuracy: 58.15% - time: 117.24s\n",
      "Epoch 14/100 - loss: 1.1298 - accuracy: 56.48% - val_loss: 1.0921 - val_accuracy: 59.38% - time: 116.80s\n",
      "Epoch 15/100 - loss: 1.1344 - accuracy: 56.31% - val_loss: 1.1399 - val_accuracy: 56.43% - time: 116.92s\n",
      "Epoch 16/100 - loss: 1.1355 - accuracy: 55.74% - val_loss: 1.0988 - val_accuracy: 57.77% - time: 116.90s\n",
      "Epoch 17/100 - loss: 1.1297 - accuracy: 56.34% - val_loss: 1.1439 - val_accuracy: 55.00% - time: 117.05s\n",
      "Epoch 18/100 - loss: 1.1330 - accuracy: 56.47% - val_loss: 1.1056 - val_accuracy: 58.56% - time: 116.80s\n",
      "Epoch 19/100 - loss: 1.1222 - accuracy: 56.97% - val_loss: 1.0993 - val_accuracy: 58.97% - time: 116.92s\n",
      "Epoch 20/100 - loss: 1.1296 - accuracy: 56.57% - val_loss: 1.1057 - val_accuracy: 58.73% - time: 116.86s\n",
      "Epoch 21/100 - loss: 1.1291 - accuracy: 56.32% - val_loss: 1.1005 - val_accuracy: 57.63% - time: 117.00s\n",
      "Epoch 22/100 - loss: 1.1276 - accuracy: 56.62% - val_loss: 1.1037 - val_accuracy: 58.59% - time: 117.12s\n",
      "Epoch 23/100 - loss: 1.1234 - accuracy: 57.11% - val_loss: 1.0899 - val_accuracy: 59.10% - time: 117.06s\n",
      "Epoch 24/100 - loss: 1.1199 - accuracy: 57.14% - val_loss: 1.0948 - val_accuracy: 58.90% - time: 117.11s\n",
      "Epoch 25/100 - loss: 1.1220 - accuracy: 56.93% - val_loss: 1.1450 - val_accuracy: 54.14% - time: 117.22s\n",
      "Epoch 26/100 - loss: 1.1235 - accuracy: 56.66% - val_loss: 1.0993 - val_accuracy: 59.03% - time: 117.12s\n",
      "Epoch 27/100 - loss: 1.1255 - accuracy: 56.80% - val_loss: 1.0940 - val_accuracy: 59.07% - time: 116.89s\n",
      "Epoch 28/100 - loss: 1.1232 - accuracy: 56.84% - val_loss: 1.0886 - val_accuracy: 58.69% - time: 117.12s\n",
      "Epoch 29/100 - loss: 1.1206 - accuracy: 57.04% - val_loss: 1.0973 - val_accuracy: 57.63% - time: 116.88s\n",
      "Epoch 30/100 - loss: 1.1189 - accuracy: 57.20% - val_loss: 1.0884 - val_accuracy: 59.34% - time: 116.87s\n",
      "Epoch 31/100 - loss: 1.1204 - accuracy: 56.89% - val_loss: 1.1363 - val_accuracy: 56.26% - time: 116.77s\n",
      "Epoch 32/100 - loss: 1.1226 - accuracy: 56.93% - val_loss: 1.1048 - val_accuracy: 58.18% - time: 116.78s\n",
      "Epoch 33/100 - loss: 1.1198 - accuracy: 57.14% - val_loss: 1.0885 - val_accuracy: 59.17% - time: 116.85s\n",
      "Epoch 34/100 - loss: 1.1242 - accuracy: 57.02% - val_loss: 1.0884 - val_accuracy: 60.10% - time: 116.77s\n",
      "Epoch 35/100 - loss: 1.1192 - accuracy: 57.61% - val_loss: 1.0938 - val_accuracy: 58.32% - time: 116.82s\n",
      "Epoch 36/100 - loss: 1.1202 - accuracy: 57.16% - val_loss: 1.0897 - val_accuracy: 59.21% - time: 117.03s\n",
      "Epoch 37/100 - loss: 1.1153 - accuracy: 57.54% - val_loss: 1.0977 - val_accuracy: 59.21% - time: 116.68s\n",
      "Epoch 38/100 - loss: 1.1156 - accuracy: 57.74% - val_loss: 1.0909 - val_accuracy: 58.62% - time: 116.76s\n",
      "Epoch 39/100 - loss: 1.1163 - accuracy: 57.71% - val_loss: 1.0890 - val_accuracy: 60.13% - time: 116.61s\n",
      "Epoch 40/100 - loss: 1.1157 - accuracy: 57.72% - val_loss: 1.1114 - val_accuracy: 56.30% - time: 116.78s\n",
      "Epoch 41/100 - loss: 1.1171 - accuracy: 57.43% - val_loss: 1.0928 - val_accuracy: 58.08% - time: 116.88s\n",
      "Epoch 42/100 - loss: 1.1171 - accuracy: 57.70% - val_loss: 1.0879 - val_accuracy: 58.80% - time: 116.83s\n",
      "Epoch 43/100 - loss: 1.1152 - accuracy: 57.81% - val_loss: 1.1070 - val_accuracy: 58.45% - time: 116.90s\n",
      "Epoch 44/100 - loss: 1.1124 - accuracy: 57.81% - val_loss: 1.0874 - val_accuracy: 59.07% - time: 116.81s\n",
      "Epoch 45/100 - loss: 1.1169 - accuracy: 57.47% - val_loss: 1.0930 - val_accuracy: 57.56% - time: 116.81s\n",
      "Epoch 46/100 - loss: 1.1113 - accuracy: 57.95% - val_loss: 1.1129 - val_accuracy: 58.18% - time: 116.42s\n",
      "Epoch 47/100 - loss: 1.1157 - accuracy: 57.43% - val_loss: 1.0888 - val_accuracy: 58.66% - time: 116.85s\n",
      "Epoch 48/100 - loss: 1.1105 - accuracy: 58.10% - val_loss: 1.1160 - val_accuracy: 57.70% - time: 116.44s\n",
      "Epoch 49/100 - loss: 1.1162 - accuracy: 57.65% - val_loss: 1.0892 - val_accuracy: 58.69% - time: 116.79s\n",
      "Epoch 50/100 - loss: 1.1123 - accuracy: 57.82% - val_loss: 1.0924 - val_accuracy: 58.52% - time: 116.67s\n",
      "Epoch 51/100 - loss: 1.1093 - accuracy: 58.07% - val_loss: 1.0904 - val_accuracy: 60.20% - time: 116.88s\n",
      "Epoch 52/100 - loss: 1.1114 - accuracy: 57.94% - val_loss: 1.0934 - val_accuracy: 59.51% - time: 116.57s\n",
      "Epoch 53/100 - loss: 1.1141 - accuracy: 57.73% - val_loss: 1.1163 - val_accuracy: 58.21% - time: 116.74s\n",
      "Epoch 54/100 - loss: 1.1138 - accuracy: 57.47% - val_loss: 1.0913 - val_accuracy: 59.10% - time: 116.83s\n",
      "Epoch 55/100 - loss: 1.1084 - accuracy: 57.80% - val_loss: 1.0919 - val_accuracy: 59.55% - time: 116.84s\n",
      "Epoch 56/100 - loss: 1.1091 - accuracy: 58.05% - val_loss: 1.1093 - val_accuracy: 57.94% - time: 116.75s\n",
      "Epoch 57/100 - loss: 1.1124 - accuracy: 57.70% - val_loss: 1.0855 - val_accuracy: 59.55% - time: 116.77s\n",
      "Epoch 58/100 - loss: 1.1149 - accuracy: 57.81% - val_loss: 1.1144 - val_accuracy: 59.24% - time: 116.45s\n",
      "Epoch 59/100 - loss: 1.1154 - accuracy: 57.64% - val_loss: 1.1133 - val_accuracy: 58.56% - time: 116.85s\n",
      "Epoch 60/100 - loss: 1.1084 - accuracy: 57.74% - val_loss: 1.0985 - val_accuracy: 59.86% - time: 116.74s\n",
      "Epoch 61/100 - loss: 1.1145 - accuracy: 57.58% - val_loss: 1.0904 - val_accuracy: 58.76% - time: 116.62s\n",
      "Epoch 62/100 - loss: 1.1141 - accuracy: 57.65% - val_loss: 1.0938 - val_accuracy: 59.62% - time: 116.59s\n",
      "Epoch 63/100 - loss: 1.1123 - accuracy: 57.43% - val_loss: 1.0974 - val_accuracy: 57.05% - time: 116.82s\n",
      "Epoch 64/100 - loss: 1.1146 - accuracy: 57.30% - val_loss: 1.0879 - val_accuracy: 59.34% - time: 116.81s\n",
      "Epoch 65/100 - loss: 1.1084 - accuracy: 57.97% - val_loss: 1.0862 - val_accuracy: 59.27% - time: 116.84s\n",
      "Epoch 66/100 - loss: 1.1113 - accuracy: 57.52% - val_loss: 1.0930 - val_accuracy: 59.51% - time: 116.68s\n",
      "Epoch 67/100 - loss: 1.1088 - accuracy: 57.49% - val_loss: 1.0974 - val_accuracy: 58.52% - time: 117.02s\n",
      "Epoch 68/100 - loss: 1.1101 - accuracy: 57.52% - val_loss: 1.0941 - val_accuracy: 57.84% - time: 116.85s\n",
      "Epoch 69/100 - loss: 1.1070 - accuracy: 57.54% - val_loss: 1.1121 - val_accuracy: 58.01% - time: 116.54s\n",
      "Epoch 70/100 - loss: 1.1062 - accuracy: 57.80% - val_loss: 1.0846 - val_accuracy: 58.62% - time: 116.85s\n",
      "Epoch 71/100 - loss: 1.1055 - accuracy: 57.64% - val_loss: 1.0925 - val_accuracy: 57.73% - time: 116.77s\n",
      "Epoch 72/100 - loss: 1.1086 - accuracy: 57.47% - val_loss: 1.1035 - val_accuracy: 58.35% - time: 117.03s\n",
      "Epoch 73/100 - loss: 1.1052 - accuracy: 57.62% - val_loss: 1.0917 - val_accuracy: 57.73% - time: 116.76s\n",
      "Epoch 74/100 - loss: 1.1128 - accuracy: 57.40% - val_loss: 1.1299 - val_accuracy: 56.91% - time: 117.01s\n",
      "Epoch 75/100 - loss: 1.1005 - accuracy: 58.19% - val_loss: 1.1442 - val_accuracy: 55.92% - time: 116.92s\n",
      "Epoch 76/100 - loss: 1.1071 - accuracy: 57.71% - val_loss: 1.0852 - val_accuracy: 59.48% - time: 116.81s\n",
      "Epoch 77/100 - loss: 1.1071 - accuracy: 57.88% - val_loss: 1.0875 - val_accuracy: 59.14% - time: 117.02s\n",
      "Epoch 78/100 - loss: 1.1050 - accuracy: 57.51% - val_loss: 1.1156 - val_accuracy: 56.91% - time: 116.95s\n",
      "Epoch 79/100 - loss: 1.1068 - accuracy: 57.39% - val_loss: 1.1101 - val_accuracy: 57.39% - time: 117.19s\n"
     ]
    },
    {
     "name": "stdout",
     "output_type": "stream",
     "text": [
      "Epoch 80/100 - loss: 1.1033 - accuracy: 57.68% - val_loss: 1.0842 - val_accuracy: 59.14% - time: 116.73s\n",
      "Epoch 81/100 - loss: 1.0966 - accuracy: 58.39% - val_loss: 1.0808 - val_accuracy: 59.45% - time: 117.06s\n",
      "Epoch 82/100 - loss: 1.1033 - accuracy: 57.85% - val_loss: 1.0908 - val_accuracy: 58.04% - time: 116.73s\n",
      "Epoch 83/100 - loss: 1.1003 - accuracy: 58.28% - val_loss: 1.1049 - val_accuracy: 58.52% - time: 117.02s\n",
      "Epoch 84/100 - loss: 1.1126 - accuracy: 57.20% - val_loss: 1.1019 - val_accuracy: 56.61% - time: 116.70s\n",
      "Epoch 85/100 - loss: 1.1052 - accuracy: 57.87% - val_loss: 1.0908 - val_accuracy: 58.90% - time: 117.12s\n",
      "Epoch 86/100 - loss: 1.0993 - accuracy: 58.19% - val_loss: 1.0807 - val_accuracy: 59.82% - time: 117.10s\n",
      "Epoch 87/100 - loss: 1.1027 - accuracy: 58.16% - val_loss: 1.0843 - val_accuracy: 59.34% - time: 117.04s\n",
      "Epoch 88/100 - loss: 1.1067 - accuracy: 57.66% - val_loss: 1.0854 - val_accuracy: 58.56% - time: 117.12s\n",
      "Epoch 89/100 - loss: 1.1067 - accuracy: 57.72% - val_loss: 1.1264 - val_accuracy: 55.89% - time: 117.11s\n",
      "Epoch 90/100 - loss: 1.1056 - accuracy: 57.44% - val_loss: 1.0799 - val_accuracy: 59.41% - time: 117.17s\n",
      "Epoch 91/100 - loss: 1.0998 - accuracy: 58.00% - val_loss: 1.0893 - val_accuracy: 59.10% - time: 116.76s\n",
      "Epoch 92/100 - loss: 1.0984 - accuracy: 58.09% - val_loss: 1.0920 - val_accuracy: 59.21% - time: 117.26s\n",
      "Epoch 93/100 - loss: 1.1046 - accuracy: 57.73% - val_loss: 1.0824 - val_accuracy: 57.87% - time: 117.03s\n",
      "Epoch 94/100 - loss: 1.0995 - accuracy: 57.90% - val_loss: 1.0874 - val_accuracy: 59.82% - time: 117.15s\n",
      "Epoch 95/100 - loss: 1.1043 - accuracy: 57.20% - val_loss: 1.0838 - val_accuracy: 57.84% - time: 116.94s\n",
      "Epoch 96/100 - loss: 1.1040 - accuracy: 57.83% - val_loss: 1.0864 - val_accuracy: 58.52% - time: 117.11s\n",
      "Epoch 97/100 - loss: 1.1003 - accuracy: 58.23% - val_loss: 1.0970 - val_accuracy: 57.43% - time: 116.99s\n",
      "Epoch 98/100 - loss: 1.0978 - accuracy: 58.28% - val_loss: 1.0868 - val_accuracy: 59.55% - time: 116.96s\n",
      "Epoch 99/100 - loss: 1.0994 - accuracy: 57.72% - val_loss: 1.0803 - val_accuracy: 59.45% - time: 117.11s\n",
      "Epoch 100/100 - loss: 1.0995 - accuracy: 58.19% - val_loss: 1.0881 - val_accuracy: 58.45% - time: 117.09s\n"
     ]
    }
   ],
   "source": [
    "best_val_acc = 0\n",
    "best_val_f1 = 0\n",
    "\n",
    "for epoch in range(epochs):\n",
    "    train_loss, train_acc, train_f1, train_time = train_one_epoch(trainloader) \n",
    "    dev_loss, dev_acc = dev_one_epoch(devloader) \n",
    "    val_loss, val_acc, val_f1, val_time, best_val_acc, cm, cr = val_one_epoch(testloader, best_val_acc) \n",
    "    \n",
    "    lr_scheduler.step(dev_loss)\n",
    "\n",
    "    if val_f1 > best_val_f1:\n",
    "        best_val_f1 = val_f1\n",
    "\n",
    "    total_time = train_time + val_time\n",
    "    print(f\"Epoch {epoch+1}/{epochs} - loss: {train_loss:.4f} - accuracy: {train_acc:.2f}% - val_loss: {val_loss:.4f} - val_accuracy: {val_acc:.2f}% - time: {total_time:.2f}s\")"
   ]
  },
  {
   "cell_type": "code",
   "execution_count": 10,
   "id": "8bcc0023",
   "metadata": {},
   "outputs": [
    {
     "name": "stdout",
     "output_type": "stream",
     "text": [
      "Humanitarian_Classification_Swin Transformer Performance:\n",
      "Accuracy : 60.38%\n",
      "F1-Score : 54.06%\n",
      "Humanitarian_Classification_Swin Transformer Classification Report:\n",
      "              precision    recall  f1-score   support\n",
      "\n",
      "           0       0.61      0.86      0.71      1550\n",
      "           1       0.51      0.46      0.48       821\n",
      "           2       0.00      0.00      0.00       391\n",
      "           3       0.00      0.00      0.00       160\n",
      "\n",
      "    accuracy                           0.58      2922\n",
      "   macro avg       0.28      0.33      0.30      2922\n",
      "weighted avg       0.47      0.58      0.51      2922\n",
      "\n"
     ]
    }
   ],
   "source": [
    "print(task + '_Swin Transformer Performance:')\n",
    "print(f'Accuracy : {best_val_acc:.2f}%')\n",
    "print(f'F1-Score : {best_val_f1:.2f}%')\n",
    "print(task + '_Swin Transformer Classification Report:')\n",
    "print(cr)"
   ]
  },
  {
   "attachments": {},
   "cell_type": "markdown",
   "id": "39c7b365",
   "metadata": {},
   "source": [
    "# Visualize"
   ]
  },
  {
   "cell_type": "code",
   "execution_count": 11,
   "id": "fa76483b",
   "metadata": {},
   "outputs": [
    {
     "data": {
      "image/png": "[encoded data removed]",
      "text/plain": [
       "<Figure size 640x480 with 1 Axes>"
      ]
     },
     "metadata": {},
     "output_type": "display_data"
    },
    {
     "data": {
      "image/png": "[encoded data removed]",
      "text/plain": [
       "<Figure size 640x480 with 1 Axes>"
      ]
     },
     "metadata": {},
     "output_type": "display_data"
    }
   ],
   "source": [
    "# Loss\n",
    "plt.title(\"Loss\")\n",
    "plt.plot(np.arange(1, epochs+1, 1), train_logs[\"loss\"], color = 'blue')\n",
    "plt.plot(np.arange(1, epochs+1, 1), val_logs[\"loss\"], color = 'red')\n",
    "plt.xlabel(\"Epochs\")\n",
    "plt.ylabel(\"Loss\")\n",
    "plt.show()\n",
    "\n",
    "# Accuracy\n",
    "plt.title(\"Accuracy\")\n",
    "plt.plot(np.arange(1, epochs+1, 1), train_logs[\"accuracy\"], color = 'blue')\n",
    "plt.plot(np.arange(1, epochs+1, 1), val_logs[\"accuracy\"], color = 'red')\n",
    "plt.xlabel(\"Epochs\")\n",
    "plt.ylabel(\"Accuracy\")\n",
    "plt.show()"
   ]
  },
  {
   "cell_type": "code",
   "execution_count": 12,
   "id": "f187255f",
   "metadata": {},
   "outputs": [
    {
     "name": "stdout",
     "output_type": "stream",
     "text": [
      "Humanitarian_Classification_Swin Transformer Confusion Matrix:\n",
      "\n",
      "affected_injured_or_dead_people: 3, rescue_volunteering_or_donation_effort: 2, infrastructure_and_utility_damage: 1, not_humanitarian: 0\n"
     ]
    },
    {
     "data": {
      "image/png": "[encoded data removed]",
      "text/plain": [
       "<Figure size 640x480 with 2 Axes>"
      ]
     },
     "metadata": {},
     "output_type": "display_data"
    }
   ],
   "source": [
    "print(task + '_Swin Transformer Confusion Matrix:\\n')\n",
    "# print('severe: 2, mild: 1, little_or_none: 0')\n",
    "# print('landslide: 6, other_disaster: 5, fire :4, hurricane: 3, earthquake: 2, flood: 1, not_disaster: 0')\n",
    "print('affected_injured_or_dead_people: 3, rescue_volunteering_or_donation_effort: 2, infrastructure_and_utility_damage: 1, not_humanitarian: 0')\n",
    "# print('informative: 1, not_informative: 0')\n",
    "disp = ConfusionMatrixDisplay(confusion_matrix=cm, display_labels=None)\n",
    "disp.plot()\n",
    "plt.show()"
   ]
  }
 ],
 "metadata": {
  "kernelspec": {
   "display_name": "Python 3 (ipykernel)",
   "language": "python",
   "name": "python3"
  },
  "language_info": {
   "codemirror_mode": {
    "name": "ipython",
    "version": 3
   },
   "file_extension": ".py",
   "mimetype": "text/x-python",
   "name": "python",
   "nbconvert_exporter": "python",
   "pygments_lexer": "ipython3",
   "version": "3.9.16"
  }
 },
 "nbformat": 4,
 "nbformat_minor": 5
}
