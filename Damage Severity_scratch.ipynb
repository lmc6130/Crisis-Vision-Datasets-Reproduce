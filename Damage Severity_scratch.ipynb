{
 "cells": [
  {
   "attachments": {},
   "cell_type": "markdown",
   "metadata": {},
   "source": [
    "# Setup"
   ]
  },
  {
   "cell_type": "code",
   "execution_count": 1,
   "metadata": {},
   "outputs": [],
   "source": [
    "# Define Parameters\n",
    "batch_size = 32\n",
    "epochs = 5\n",
    "task = 'Damage_Severity_Classification'"
   ]
  },
  {
   "cell_type": "code",
   "execution_count": 2,
   "metadata": {},
   "outputs": [],
   "source": [
    "import matplotlib.pyplot as plt\n",
    "import numpy as np\n",
    "import pandas as pd\n",
    "import os\n",
    "import time\n",
    "import torch\n",
    "import torch.nn as nn\n",
    "import torch.optim\n",
    "import torchvision.models as models\n",
    "import torchvision.transforms as transforms\n",
    "import warnings\n",
    "from sklearn.metrics import accuracy_score, f1_score, classification_report, confusion_matrix, ConfusionMatrixDisplay\n",
    "from torch.utils.data import DataLoader, TensorDataset\n",
    "from tqdm import tqdm\n",
    "\n",
    "device = torch.device(\"cuda:0\")\n",
    "warnings.filterwarnings(\"ignore\")"
   ]
  },
  {
   "attachments": {},
   "cell_type": "markdown",
   "metadata": {},
   "source": [
    "# Data Loading"
   ]
  },
  {
   "cell_type": "code",
   "execution_count": 3,
   "metadata": {},
   "outputs": [
    {
     "name": "stdout",
     "output_type": "stream",
     "text": [
      "(28319, 4)\n",
      "(3865, 4)\n",
      "(2712, 4)\n"
     ]
    }
   ],
   "source": [
    "# Damage Severity\n",
    "train_path = 'C:/crisis_vision_benchmarks/tasks/damage_severity/consolidated/consolidated_damage_train_final.tsv'\n",
    "test_path = 'C:/crisis_vision_benchmarks/tasks/damage_severity/consolidated/consolidated_damage_test_final.tsv'\n",
    "dev_path = 'C:/crisis_vision_benchmarks/tasks/damage_severity/consolidated/consolidated_damage_dev_final.tsv'\n",
    "\n",
    "train_label = pd.read_table(train_path)\n",
    "test_label = pd.read_table(test_path)\n",
    "dev_label = pd.read_table(dev_path)\n",
    "\n",
    "print(train_label.shape)\n",
    "print(test_label.shape)\n",
    "print(dev_label.shape)"
   ]
  },
  {
   "cell_type": "code",
   "execution_count": 4,
   "metadata": {},
   "outputs": [],
   "source": [
    "class_label_map = {\"severe\": 2, \"mild\": 1, \"little_or_none\": 0}\n",
    "\n",
    "def get_data(pd_label, class_label_map):\n",
    "    image_path = pd_label['image_path']\n",
    "    class_label = pd_label['class_label']\n",
    "\n",
    "    X, y, valid_indices = [], [], []\n",
    "\n",
    "    tfms = transforms.Compose([\n",
    "        transforms.ToTensor(),\n",
    "        transforms.Normalize((0.5, 0.5, 0.5), (0.5, 0.5, 0.5))\n",
    "    ])\n",
    "\n",
    "    for i in tqdm(range(len(image_path))):\n",
    "        path = os.path.join('C:/crisis_vision_benchmarks/', image_path[i])\n",
    "        try:\n",
    "            img = Image.open(path)\n",
    "            if img is None:\n",
    "                print(f\"Error reading image: {path}\")\n",
    "                continue\n",
    "            img = img.resize((224, 224))\n",
    "            img = img.convert(\"RGB\")\n",
    "            img = np.array(img, dtype=np.float32) / 255.0\n",
    "            img = tfms(img) \n",
    "            X.append(img)\n",
    "            valid_indices.append(i)\n",
    "        except Exception as e:\n",
    "            print(f\"Error opening image: {path} - {str(e)}\")\n",
    "            continue\n",
    "\n",
    "    print(X[0].shape)\n",
    "    X = np.stack(X)\n",
    "    print(X.shape)\n",
    "\n",
    "    for idx in tqdm(valid_indices):\n",
    "        label = class_label[idx]\n",
    "        if label not in class_label_map:\n",
    "            print(f\"Error: Unknown class label: {label}\")\n",
    "            continue\n",
    "        y.append(class_label_map[label])\n",
    "\n",
    "    y = np.array(y, dtype=np.int64)\n",
    "    print(y.shape)\n",
    "\n",
    "    return X, y"
   ]
  },
  {
   "cell_type": "code",
   "execution_count": 5,
   "metadata": {},
   "outputs": [
    {
     "name": "stderr",
     "output_type": "stream",
     "text": [
      "100%|██████████| 28319/28319 [06:19<00:00, 74.67it/s] \n"
     ]
    },
    {
     "name": "stdout",
     "output_type": "stream",
     "text": [
      "torch.Size([3, 224, 224])\n",
      "(28319, 3, 224, 224)\n"
     ]
    },
    {
     "name": "stderr",
     "output_type": "stream",
     "text": [
      "100%|██████████| 28319/28319 [00:00<00:00, 1348652.18it/s]\n"
     ]
    },
    {
     "name": "stdout",
     "output_type": "stream",
     "text": [
      "(28319,)\n"
     ]
    },
    {
     "name": "stderr",
     "output_type": "stream",
     "text": [
      "100%|██████████| 3865/3865 [00:58<00:00, 66.50it/s] \n"
     ]
    },
    {
     "name": "stdout",
     "output_type": "stream",
     "text": [
      "torch.Size([3, 224, 224])\n",
      "(3865, 3, 224, 224)\n"
     ]
    },
    {
     "name": "stderr",
     "output_type": "stream",
     "text": [
      "100%|██████████| 3865/3865 [00:00<00:00, 386528.02it/s]\n"
     ]
    },
    {
     "name": "stdout",
     "output_type": "stream",
     "text": [
      "(3865,)\n"
     ]
    },
    {
     "name": "stderr",
     "output_type": "stream",
     "text": [
      "100%|██████████| 2712/2712 [00:38<00:00, 70.21it/s] \n"
     ]
    },
    {
     "name": "stdout",
     "output_type": "stream",
     "text": [
      "torch.Size([3, 224, 224])\n",
      "(2712, 3, 224, 224)\n"
     ]
    },
    {
     "name": "stderr",
     "output_type": "stream",
     "text": [
      "100%|██████████| 2712/2712 [00:00<00:00, 1355936.64it/s]"
     ]
    },
    {
     "name": "stdout",
     "output_type": "stream",
     "text": [
      "(2712,)\n"
     ]
    },
    {
     "name": "stderr",
     "output_type": "stream",
     "text": [
      "\n"
     ]
    }
   ],
   "source": [
    "X_train, y_train = get_data(train_label, class_label_map)\n",
    "X_test, y_test = get_data(test_label, class_label_map)\n",
    "X_dev, y_dev = get_data(dev_label, class_label_map)\n",
    "\n",
    "X_train = torch.tensor(X_train, dtype=torch.float32)\n",
    "y_train = torch.tensor(y_train, dtype=torch.int64)\n",
    "trainset = TensorDataset(X_train, y_train)\n",
    "\n",
    "X_test = torch.tensor(X_test, dtype=torch.float32)\n",
    "y_test = torch.tensor(y_test, dtype=torch.int64)\n",
    "testset = TensorDataset(X_test, y_test)\n",
    "\n",
    "X_dev = torch.tensor(X_dev, dtype=torch.float32)\n",
    "y_dev = torch.tensor(y_dev, dtype=torch.int64)\n",
    "devset = TensorDataset(X_dev, y_dev)"
   ]
  },
  {
   "cell_type": "code",
   "execution_count": 6,
   "metadata": {},
   "outputs": [],
   "source": [
    "trainloader = DataLoader(trainset, batch_size=batch_size, shuffle=True, num_workers=4)\n",
    "testloader = DataLoader(testset, batch_size=batch_size, shuffle=False, num_workers=4)\n",
    "devloader = DataLoader(devset, batch_size=batch_size, shuffle=True, num_workers=4)"
   ]
  },
  {
   "attachments": {},
   "cell_type": "markdown",
   "metadata": {},
   "source": [
    "# ResNet50_Scratch"
   ]
  },
  {
   "cell_type": "code",
   "execution_count": 14,
   "metadata": {},
   "outputs": [],
   "source": [
    "model = models.resnet50(weights=None)\n",
    "num_ftrs = model.fc.in_features\n",
    "model.fc = nn.Linear(num_ftrs, len(class_label_map))\n",
    "model = model.to(device)\n",
    "\n",
    "optimizer = torch.optim.Adam(model.parameters(), lr=1e-5)\n",
    "lr_scheduler = torch.optim.lr_scheduler.ReduceLROnPlateau(optimizer, factor=0.1, patience=10)\n",
    "criterion = nn.CrossEntropyLoss()\n",
    "\n",
    "train_logs = {\"loss\": [], \"accuracy\": [], \"acc\": [], \"f1\": [], \"f1-score\": [], \"time\": []}\n",
    "val_logs = {\"loss\": [], \"accuracy\": [], \"acc\": [], \"f1\": [], \"f1-score\": [], \"time\": []}"
   ]
  },
  {
   "attachments": {},
   "cell_type": "markdown",
   "metadata": {},
   "source": [
    "## Train"
   ]
  },
  {
   "cell_type": "code",
   "execution_count": 15,
   "metadata": {},
   "outputs": [],
   "source": [
    "# Learning schedule update\n",
    "def dev_one_epoch(dev_data_loader):\n",
    "    epoch_loss = []\n",
    "    epoch_acc = []\n",
    "\n",
    "    model.eval()\n",
    "\n",
    "    with torch.no_grad():\n",
    "        for images, labels in dev_data_loader:\n",
    "            images = images.to(device)\n",
    "            labels = labels.to(device)\n",
    "\n",
    "            preds = model(images)  # Forward\n",
    "\n",
    "            # Calculating Loss\n",
    "            _loss = criterion(preds, labels)\n",
    "            loss = _loss.item()\n",
    "            epoch_loss.append(loss)\n",
    "\n",
    "            # Calculating Accuracy\n",
    "            _, predicts = preds.max(1)\n",
    "            predicts = predicts.detach().cpu().numpy()\n",
    "            labels = labels.detach().cpu().numpy()\n",
    "            acc = accuracy_score(labels, predicts)\n",
    "            epoch_acc.append(acc)\n",
    "\n",
    "    # Acc and Loss\n",
    "    epoch_loss = np.mean(epoch_loss)\n",
    "    epoch_acc = np.mean(epoch_acc)\n",
    "\n",
    "    return epoch_loss, epoch_acc"
   ]
  },
  {
   "cell_type": "code",
   "execution_count": 16,
   "metadata": {},
   "outputs": [],
   "source": [
    "def train_one_epoch(train_data_loader):\n",
    "    epoch_loss = []\n",
    "    epoch_acc = []\n",
    "    epoch_f1 = []\n",
    "    trues = []\n",
    "    prediction = []\n",
    "    start_time = time.time()\n",
    "\n",
    "    model.train()\n",
    "\n",
    "    for images, labels in train_data_loader:\n",
    "        images = images.to(device)\n",
    "        labels = labels.to(device)\n",
    "        optimizer.zero_grad()\n",
    "        preds = model(images)\n",
    "\n",
    "        # Calculating Loss\n",
    "        loss = criterion(preds, labels)\n",
    "        epoch_loss.append(loss.item())\n",
    "\n",
    "        # Calculating Metrics\n",
    "        _, predicts = preds.max(1)\n",
    "        predicts = predicts.detach().cpu().numpy()\n",
    "        labels = labels.detach().cpu().numpy()\n",
    "        acc = accuracy_score(labels, predicts)\n",
    "        f1 = f1_score(labels, predicts, average=\"weighted\")\n",
    "        epoch_acc.append(acc)\n",
    "        epoch_f1.append(f1)\n",
    "        trues.append(labels)\n",
    "        prediction.append(predicts)\n",
    "\n",
    "        # Backpropagation\n",
    "        loss.backward()\n",
    "        optimizer.step()\n",
    "\n",
    "    trues = np.concatenate(trues)\n",
    "    prediction = np.concatenate(prediction)\n",
    "    accuracy = accuracy_score(trues, prediction)\n",
    "    f1score = f1_score(trues, prediction, average=\"weighted\")\n",
    "    accuracy = accuracy * 100\n",
    "    f1score = f1score * 100\n",
    "\n",
    "    # Overall Epoch Results\n",
    "    end_time = time.time()\n",
    "    total_time = end_time - start_time\n",
    "\n",
    "    epoch_loss = np.mean(epoch_loss)\n",
    "    epoch_acc = np.mean(epoch_acc) * 100\n",
    "    epoch_f1 = np.mean(epoch_f1) * 100\n",
    "\n",
    "    train_logs[\"loss\"].append(epoch_loss)\n",
    "    train_logs[\"accuracy\"].append(accuracy)\n",
    "    train_logs[\"acc\"].append(epoch_acc) # check\n",
    "    train_logs[\"f1\"].append(epoch_f1) # check\n",
    "    train_logs[\"f1-score\"].append(f1score)\n",
    "    train_logs[\"time\"].append(total_time)\n",
    "\n",
    "    return epoch_loss, accuracy, f1score, total_time\n",
    "\n",
    "def val_one_epoch(val_data_loader, best_val_acc):\n",
    "    epoch_loss = []\n",
    "    epoch_acc = []\n",
    "    epoch_f1 = []\n",
    "    trues = []\n",
    "    prediction = []\n",
    "    start_time = time.time()\n",
    "\n",
    "    model.eval()\n",
    "\n",
    "    with torch.no_grad():\n",
    "        for images, labels in val_data_loader:\n",
    "            images = images.to(device)\n",
    "            labels = labels.to(device)\n",
    "\n",
    "            preds = model(images)\n",
    "\n",
    "            # Calculating Loss\n",
    "            loss = criterion(preds, labels)\n",
    "            epoch_loss.append(loss.item())\n",
    "\n",
    "            # Calculating Metrics\n",
    "            _, predicts = preds.max(1)\n",
    "            predicts = predicts.detach().cpu().numpy()\n",
    "            labels = labels.detach().cpu().numpy()\n",
    "            acc = accuracy_score(labels, predicts)\n",
    "            f1 = f1_score(labels, predicts, average=\"weighted\")\n",
    "            epoch_acc.append(acc)\n",
    "            epoch_f1.append(f1)\n",
    "            trues.append(labels)\n",
    "            prediction.append(predicts)\n",
    "   \n",
    "    \n",
    "    trues = np.concatenate(trues)\n",
    "    prediction = np.concatenate(prediction)\n",
    "    cm = confusion_matrix(trues, prediction)\n",
    "    accuracy = accuracy_score(trues, prediction)\n",
    "    f1score = f1_score(trues, prediction, average=\"weighted\")\n",
    "    accuracy = accuracy * 100\n",
    "    f1score = f1score * 100\n",
    "    cr = classification_report(trues, prediction)\n",
    "\n",
    "    # Overall Epoch Results\n",
    "    end_time = time.time()\n",
    "    total_time = end_time - start_time\n",
    "\n",
    "    epoch_loss = np.mean(epoch_loss)\n",
    "    epoch_acc = np.mean(epoch_acc) * 100\n",
    "    epoch_f1 = np.mean(epoch_f1) * 100\n",
    "\n",
    "    val_logs[\"loss\"].append(epoch_loss)\n",
    "    val_logs[\"accuracy\"].append(accuracy)\n",
    "    val_logs[\"acc\"].append(epoch_acc) # check\n",
    "    val_logs[\"f1\"].append(epoch_f1) # check\n",
    "    val_logs[\"f1-score\"].append(f1score)\n",
    "    val_logs[\"time\"].append(total_time)\n",
    "\n",
    "    # Saving best model\n",
    "    if epoch_acc > best_val_acc:\n",
    "        best_val_acc = epoch_acc\n",
    "        torch.save(model.state_dict(), task + \"_ResNet50_scratch.pth\")\n",
    "\n",
    "    return epoch_loss, accuracy, f1score, total_time, best_val_acc, cm, cr"
   ]
  },
  {
   "cell_type": "code",
   "execution_count": 17,
   "metadata": {},
   "outputs": [
    {
     "name": "stdout",
     "output_type": "stream",
     "text": [
      "Epoch 1/5 - loss: 0.9197 - accuracy: 58.17% - val_loss: 1.0704 - val_accuracy: 49.44% - time: 203.16s\n",
      "Epoch 2/5 - loss: 0.8414 - accuracy: 64.01% - val_loss: 1.1107 - val_accuracy: 48.85% - time: 203.52s\n",
      "Epoch 3/5 - loss: 0.8113 - accuracy: 65.60% - val_loss: 0.9148 - val_accuracy: 60.78% - time: 193.19s\n",
      "Epoch 4/5 - loss: 0.7922 - accuracy: 66.57% - val_loss: 0.9290 - val_accuracy: 61.03% - time: 192.62s\n",
      "Epoch 5/5 - loss: 0.7741 - accuracy: 67.46% - val_loss: 0.9882 - val_accuracy: 58.97% - time: 193.12s\n"
     ]
    }
   ],
   "source": [
    "best_val_acc = 0\n",
    "best_val_f1 = 0\n",
    "\n",
    "for epoch in range(epochs):\n",
    "    train_loss, train_acc, train_f1, train_time = train_one_epoch(trainloader) # Training\n",
    "    dev_loss, dev_acc = dev_one_epoch(devloader) # Dev\n",
    "    lr_scheduler.step(dev_loss)\n",
    "    val_loss, val_acc, val_f1, val_time, best_val_acc, cm, cr = val_one_epoch(testloader, best_val_acc) # Validation\n",
    "\n",
    "    if val_f1 > best_val_f1:\n",
    "        best_val_f1 = val_f1\n",
    "\n",
    "    total_time = train_time + val_time\n",
    "    print(f\"Epoch {epoch+1}/{epochs} - loss: {train_loss:.4f} - accuracy: {train_acc:.2f}% - val_loss: {val_loss:.4f} - val_accuracy: {val_acc:.2f}% - time: {total_time:.2f}s\")"
   ]
  },
  {
   "cell_type": "code",
   "execution_count": 18,
   "metadata": {},
   "outputs": [
    {
     "name": "stdout",
     "output_type": "stream",
     "text": [
      "Damage_Severity_Classification_ResNet50_scratch Performance:\n",
      "Accuracy : 61.11%\n",
      "F1-Score : 54.83%\n",
      "Damage_Severity_Classification_ResNet50_scratch Classification Report:\n",
      "              precision    recall  f1-score   support\n",
      "\n",
      "           0       0.71      0.70      0.70      2135\n",
      "           1       0.67      0.01      0.02       629\n",
      "           2       0.45      0.71      0.55      1101\n",
      "\n",
      "    accuracy                           0.59      3865\n",
      "   macro avg       0.61      0.47      0.43      3865\n",
      "weighted avg       0.63      0.59      0.55      3865\n",
      "\n"
     ]
    }
   ],
   "source": [
    "print(task + '_ResNet50_scratch Performance:')\n",
    "print(f'Accuracy : {best_val_acc:.2f}%')\n",
    "print(f'F1-Score : {best_val_f1:.2f}%')\n",
    "print(task + '_ResNet50_scratch Classification Report:')\n",
    "print(cr)"
   ]
  },
  {
   "attachments": {},
   "cell_type": "markdown",
   "metadata": {},
   "source": [
    "## Visualize Results & Confusion Matrix"
   ]
  },
  {
   "cell_type": "code",
   "execution_count": 19,
   "metadata": {},
   "outputs": [
    {
     "data": {
      "image/png": "[encoded data removed]",
      "text/plain": [
       "<Figure size 640x480 with 1 Axes>"
      ]
     },
     "metadata": {},
     "output_type": "display_data"
    },
    {
     "data": {
      "image/png": "[encoded data removed]",
      "text/plain": [
       "<Figure size 640x480 with 1 Axes>"
      ]
     },
     "metadata": {},
     "output_type": "display_data"
    }
   ],
   "source": [
    "# Loss\n",
    "plt.title(\"Loss\")\n",
    "plt.plot(np.arange(1, epochs+1, 1), train_logs[\"loss\"], color = 'blue')\n",
    "plt.plot(np.arange(1, epochs+1, 1), val_logs[\"loss\"], color = 'red')\n",
    "plt.xlabel(\"Epochs\")\n",
    "plt.ylabel(\"Loss\")\n",
    "plt.show()\n",
    "\n",
    "# Accuracy\n",
    "plt.title(\"Accuracy\")\n",
    "plt.plot(np.arange(1, epochs+1, 1), train_logs[\"accuracy\"], color = 'blue')\n",
    "plt.plot(np.arange(1, epochs+1, 1), val_logs[\"accuracy\"], color = 'red')\n",
    "plt.xlabel(\"Epochs\")\n",
    "plt.ylabel(\"Accuracy\")\n",
    "plt.show()"
   ]
  },
  {
   "cell_type": "code",
   "execution_count": 20,
   "metadata": {},
   "outputs": [
    {
     "name": "stdout",
     "output_type": "stream",
     "text": [
      "Damage_Severity_Classification_ResNet50_scratch Confusion Matrix:\n",
      "\n",
      "severe: 2, mild: 1, little_or_none: 0\n"
     ]
    },
    {
     "data": {
      "image/png": "[encoded data removed]",
      "text/plain": [
       "<Figure size 640x480 with 2 Axes>"
      ]
     },
     "metadata": {},
     "output_type": "display_data"
    }
   ],
   "source": [
    "# \"severe\": 2, \"mild\": 1, \"little_or_none\": 0\n",
    "print(task + '_ResNet50_scratch Confusion Matrix:\\n')\n",
    "print('severe: 2, mild: 1, little_or_none: 0')\n",
    "disp = ConfusionMatrixDisplay(confusion_matrix=cm, display_labels=None)\n",
    "disp.plot()\n",
    "plt.show()"
   ]
  },
  {
   "attachments": {},
   "cell_type": "markdown",
   "metadata": {},
   "source": [
    "# EfficientNetb1_scratch"
   ]
  },
  {
   "cell_type": "code",
   "execution_count": 28,
   "metadata": {},
   "outputs": [],
   "source": [
    "model = models.efficientnet_b1(weights=None)\n",
    "num_ftrs = model.classifier[-1].in_features\n",
    "model.classifier[-1] = nn.Linear(num_ftrs, len(class_label_map))\n",
    "model = model.to(device)\n",
    "\n",
    "optimizer = torch.optim.Adam(model.parameters(), lr=1e-5)\n",
    "lr_scheduler = torch.optim.lr_scheduler.ReduceLROnPlateau(optimizer, factor=0.1, patience=10)\n",
    "criterion = nn.CrossEntropyLoss()\n",
    "\n",
    "train_logs = {\"loss\": [], \"accuracy\": [], \"acc\": [], \"f1\": [], \"f1-score\": [], \"time\": []}\n",
    "val_logs = {\"loss\": [], \"accuracy\": [], \"acc\": [], \"f1\": [], \"f1-score\": [], \"time\": []}"
   ]
  },
  {
   "attachments": {},
   "cell_type": "markdown",
   "metadata": {},
   "source": [
    "## Train"
   ]
  },
  {
   "cell_type": "code",
   "execution_count": 29,
   "metadata": {},
   "outputs": [],
   "source": [
    "# Learning schedule update\n",
    "def dev_one_epoch(dev_data_loader):\n",
    "    epoch_loss = []\n",
    "    epoch_acc = []\n",
    "\n",
    "    model.eval()\n",
    "\n",
    "    with torch.no_grad():\n",
    "        for images, labels in dev_data_loader:\n",
    "            images = images.to(device)\n",
    "            labels = labels.to(device)\n",
    "\n",
    "            preds = model(images)  # Forward\n",
    "\n",
    "            # Calculating Loss\n",
    "            _loss = criterion(preds, labels)\n",
    "            loss = _loss.item()\n",
    "            epoch_loss.append(loss)\n",
    "\n",
    "            # Calculating Accuracy\n",
    "            _, predicts = preds.max(1)\n",
    "            predicts = predicts.detach().cpu().numpy()\n",
    "            labels = labels.detach().cpu().numpy()\n",
    "            acc = accuracy_score(labels, predicts)\n",
    "            epoch_acc.append(acc)\n",
    "\n",
    "    # Acc and Loss\n",
    "    epoch_loss = np.mean(epoch_loss)\n",
    "    epoch_acc = np.mean(epoch_acc)\n",
    "\n",
    "    return epoch_loss, epoch_acc"
   ]
  },
  {
   "cell_type": "code",
   "execution_count": 30,
   "metadata": {},
   "outputs": [],
   "source": [
    "def train_one_epoch(train_data_loader):\n",
    "    epoch_loss = []\n",
    "    epoch_acc = []\n",
    "    epoch_f1 = []\n",
    "    trues = []\n",
    "    prediction = []\n",
    "    start_time = time.time()\n",
    "\n",
    "    model.train()\n",
    "\n",
    "    for images, labels in train_data_loader:\n",
    "        images = images.to(device)\n",
    "        labels = labels.to(device)\n",
    "        optimizer.zero_grad()\n",
    "        preds = model(images)\n",
    "\n",
    "        # Calculating Loss\n",
    "        loss = criterion(preds, labels)\n",
    "        epoch_loss.append(loss.item())\n",
    "\n",
    "        # Calculating Metrics\n",
    "        _, predicts = preds.max(1)\n",
    "        predicts = predicts.detach().cpu().numpy()\n",
    "        labels = labels.detach().cpu().numpy()\n",
    "        acc = accuracy_score(labels, predicts)\n",
    "        f1 = f1_score(labels, predicts, average=\"weighted\")\n",
    "        epoch_acc.append(acc)\n",
    "        epoch_f1.append(f1)\n",
    "        trues.append(labels)\n",
    "        prediction.append(predicts)\n",
    "\n",
    "        # Backpropagation\n",
    "        loss.backward()\n",
    "        optimizer.step()\n",
    "\n",
    "    trues = np.concatenate(trues)\n",
    "    prediction = np.concatenate(prediction)\n",
    "    accuracy = accuracy_score(trues, prediction)\n",
    "    f1score = f1_score(trues, prediction, average=\"weighted\")\n",
    "    accuracy = accuracy * 100\n",
    "    f1score = f1score * 100\n",
    "\n",
    "    # Overall Epoch Results\n",
    "    end_time = time.time()\n",
    "    total_time = end_time - start_time\n",
    "\n",
    "    epoch_loss = np.mean(epoch_loss)\n",
    "    epoch_acc = np.mean(epoch_acc) * 100\n",
    "    epoch_f1 = np.mean(epoch_f1) * 100\n",
    "\n",
    "    train_logs[\"loss\"].append(epoch_loss)\n",
    "    train_logs[\"accuracy\"].append(accuracy)\n",
    "    train_logs[\"acc\"].append(epoch_acc) # check\n",
    "    train_logs[\"f1\"].append(epoch_f1) # check\n",
    "    train_logs[\"f1-score\"].append(f1score)\n",
    "    train_logs[\"time\"].append(total_time)\n",
    "\n",
    "    return epoch_loss, accuracy, f1score, total_time\n",
    "\n",
    "def val_one_epoch(val_data_loader, best_val_acc):\n",
    "    epoch_loss = []\n",
    "    epoch_acc = []\n",
    "    epoch_f1 = []\n",
    "    trues = []\n",
    "    prediction = []\n",
    "    start_time = time.time()\n",
    "\n",
    "    model.eval()\n",
    "\n",
    "    with torch.no_grad():\n",
    "        for images, labels in val_data_loader:\n",
    "            images = images.to(device)\n",
    "            labels = labels.to(device)\n",
    "\n",
    "            preds = model(images)\n",
    "\n",
    "            # Calculating Loss\n",
    "            loss = criterion(preds, labels)\n",
    "            epoch_loss.append(loss.item())\n",
    "\n",
    "            # Calculating Metrics\n",
    "            _, predicts = preds.max(1)\n",
    "            predicts = predicts.detach().cpu().numpy()\n",
    "            labels = labels.detach().cpu().numpy()\n",
    "            acc = accuracy_score(labels, predicts)\n",
    "            f1 = f1_score(labels, predicts, average=\"weighted\")\n",
    "            epoch_acc.append(acc)\n",
    "            epoch_f1.append(f1)\n",
    "            trues.append(labels)\n",
    "            prediction.append(predicts)\n",
    "   \n",
    "    \n",
    "    trues = np.concatenate(trues)\n",
    "    prediction = np.concatenate(prediction)\n",
    "    cm = confusion_matrix(trues, prediction)\n",
    "    accuracy = accuracy_score(trues, prediction)\n",
    "    f1score = f1_score(trues, prediction, average=\"weighted\")\n",
    "    accuracy = accuracy * 100\n",
    "    f1score = f1score * 100\n",
    "    cr = classification_report(trues, prediction)\n",
    "\n",
    "    # Overall Epoch Results\n",
    "    end_time = time.time()\n",
    "    total_time = end_time - start_time\n",
    "\n",
    "    epoch_loss = np.mean(epoch_loss)\n",
    "    epoch_acc = np.mean(epoch_acc) * 100\n",
    "    epoch_f1 = np.mean(epoch_f1) * 100\n",
    "\n",
    "    val_logs[\"loss\"].append(epoch_loss)\n",
    "    val_logs[\"accuracy\"].append(accuracy)\n",
    "    val_logs[\"acc\"].append(epoch_acc) # check\n",
    "    val_logs[\"f1\"].append(epoch_f1) # check\n",
    "    val_logs[\"f1-score\"].append(f1score)\n",
    "    val_logs[\"time\"].append(total_time)\n",
    "\n",
    "    # Saving best model\n",
    "    if epoch_acc > best_val_acc:\n",
    "        best_val_acc = epoch_acc\n",
    "        torch.save(model.state_dict(), task + \"_EfficientNetb1_scratch.pth\")\n",
    "\n",
    "    return epoch_loss, accuracy, f1score, total_time, best_val_acc, cm, cr"
   ]
  },
  {
   "cell_type": "code",
   "execution_count": 31,
   "metadata": {},
   "outputs": [
    {
     "name": "stdout",
     "output_type": "stream",
     "text": [
      "Epoch 1/5 - loss: 1.0298 - accuracy: 46.21% - val_loss: 1.0688 - val_accuracy: 39.46% - time: 163.29s\n",
      "Epoch 2/5 - loss: 0.9611 - accuracy: 54.26% - val_loss: 0.9828 - val_accuracy: 52.26% - time: 159.91s\n",
      "Epoch 3/5 - loss: 0.9017 - accuracy: 60.21% - val_loss: 0.9558 - val_accuracy: 56.87% - time: 158.39s\n",
      "Epoch 4/5 - loss: 0.8667 - accuracy: 62.66% - val_loss: 0.9759 - val_accuracy: 57.57% - time: 158.60s\n",
      "Epoch 5/5 - loss: 0.8463 - accuracy: 63.57% - val_loss: 0.9524 - val_accuracy: 57.59% - time: 159.07s\n"
     ]
    }
   ],
   "source": [
    "best_val_acc = 0\n",
    "best_val_f1 = 0\n",
    "\n",
    "for epoch in range(epochs):\n",
    "    train_loss, train_acc, train_f1, train_time = train_one_epoch(trainloader) # Training\n",
    "    dev_loss, dev_acc = dev_one_epoch(devloader) # Dev\n",
    "    lr_scheduler.step(dev_loss)\n",
    "    val_loss, val_acc, val_f1, val_time, best_val_acc, cm, cr = val_one_epoch(testloader, best_val_acc) # Validation\n",
    "\n",
    "    if val_f1 > best_val_f1:\n",
    "        best_val_f1 = val_f1\n",
    "\n",
    "    total_time = train_time + val_time\n",
    "    print(f\"Epoch {epoch+1}/{epochs} - loss: {train_loss:.4f} - accuracy: {train_acc:.2f}% - val_loss: {val_loss:.4f} - val_accuracy: {val_acc:.2f}% - time: {total_time:.2f}s\")"
   ]
  },
  {
   "cell_type": "code",
   "execution_count": 32,
   "metadata": {},
   "outputs": [
    {
     "name": "stdout",
     "output_type": "stream",
     "text": [
      "Damage_Severity_Classification_EfficientNetb1_scratch Performance:\n",
      "Accuracy : 57.63%\n",
      "F1-Score : 52.89%\n",
      "Damage_Severity_Classification_EfficientNetb1_scratch Classification Report:\n",
      "              precision    recall  f1-score   support\n",
      "\n",
      "           0       0.66      0.74      0.70      2135\n",
      "           1       0.00      0.00      0.00       629\n",
      "           2       0.44      0.59      0.50      1101\n",
      "\n",
      "    accuracy                           0.58      3865\n",
      "   macro avg       0.37      0.44      0.40      3865\n",
      "weighted avg       0.49      0.58      0.53      3865\n",
      "\n"
     ]
    }
   ],
   "source": [
    "print(task + '_EfficientNetb1_scratch Performance:')\n",
    "print(f'Accuracy : {best_val_acc:.2f}%')\n",
    "print(f'F1-Score : {best_val_f1:.2f}%')\n",
    "print(task + '_EfficientNetb1_scratch Classification Report:')\n",
    "print(cr)"
   ]
  },
  {
   "attachments": {},
   "cell_type": "markdown",
   "metadata": {},
   "source": [
    "## Visualize Results & Confusion Matrix"
   ]
  },
  {
   "cell_type": "code",
   "execution_count": 33,
   "metadata": {},
   "outputs": [
    {
     "data": {
      "image/png": "[encoded data removed]",
      "text/plain": [
       "<Figure size 640x480 with 1 Axes>"
      ]
     },
     "metadata": {},
     "output_type": "display_data"
    },
    {
     "data": {
      "image/png": "[encoded data removed]",
      "text/plain": [
       "<Figure size 640x480 with 1 Axes>"
      ]
     },
     "metadata": {},
     "output_type": "display_data"
    }
   ],
   "source": [
    "# Loss\n",
    "plt.title(\"Loss\")\n",
    "plt.plot(np.arange(1, epochs+1, 1), train_logs[\"loss\"], color = 'blue')\n",
    "plt.plot(np.arange(1, epochs+1, 1), val_logs[\"loss\"], color = 'red')\n",
    "plt.xlabel(\"Epochs\")\n",
    "plt.ylabel(\"Loss\")\n",
    "plt.show()\n",
    "\n",
    "# Accuracy\n",
    "plt.title(\"Accuracy\")\n",
    "plt.plot(np.arange(1, epochs+1, 1), train_logs[\"accuracy\"], color = 'blue')\n",
    "plt.plot(np.arange(1, epochs+1, 1), val_logs[\"accuracy\"], color = 'red')\n",
    "plt.xlabel(\"Epochs\")\n",
    "plt.ylabel(\"Accuracy\")\n",
    "plt.show()"
   ]
  },
  {
   "cell_type": "code",
   "execution_count": 34,
   "metadata": {},
   "outputs": [
    {
     "name": "stdout",
     "output_type": "stream",
     "text": [
      "Damage_Severity_Classification_EfficientNetb1_scratch Confusion Matrix:\n",
      "\n",
      "severe: 2, mild: 1, little_or_none: 0\n"
     ]
    },
    {
     "data": {
      "image/png": "[encoded data removed]",
      "text/plain": [
       "<Figure size 640x480 with 2 Axes>"
      ]
     },
     "metadata": {},
     "output_type": "display_data"
    }
   ],
   "source": [
    "# \"severe\": 2, \"mild\": 1, \"little_or_none\": 0\n",
    "print(task + '_EfficientNetb1_scratch Confusion Matrix:\\n')\n",
    "print('severe: 2, mild: 1, little_or_none: 0')\n",
    "disp = ConfusionMatrixDisplay(confusion_matrix=cm, display_labels=None)\n",
    "disp.plot()\n",
    "plt.show()"
   ]
  }
 ],
 "metadata": {
  "kernelspec": {
   "display_name": "crisis_vision",
   "language": "python",
   "name": "python3"
  },
  "language_info": {
   "codemirror_mode": {
    "name": "ipython",
    "version": 3
   },
   "file_extension": ".py",
   "mimetype": "text/x-python",
   "name": "python",
   "nbconvert_exporter": "python",
   "pygments_lexer": "ipython3",
   "version": "3.9.16"
  },
  "orig_nbformat": 4
 },
 "nbformat": 4,
 "nbformat_minor": 2
}
